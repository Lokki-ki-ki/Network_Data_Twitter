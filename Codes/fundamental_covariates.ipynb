{
 "cells": [
  {
   "cell_type": "markdown",
   "metadata": {},
   "source": [
    "# Import the Packages"
   ]
  },
  {
   "cell_type": "code",
   "execution_count": 10,
   "metadata": {},
   "outputs": [],
   "source": [
    "import pandas\n",
    "import numpy as np\n",
    "import matplotlib.pyplot as plt\n",
    "import logging\n",
    "import os\n",
    "## Customized DataParser to package the functions needed for data processing\n",
    "from DataParser import DataParser\n",
    "parser = DataParser()"
   ]
  },
  {
   "cell_type": "markdown",
   "metadata": {},
   "source": [
    "# Read in the fundamental covariates and drop the cols not to use"
   ]
  },
  {
   "cell_type": "code",
   "execution_count": 11,
   "metadata": {},
   "outputs": [],
   "source": [
    "# dates_to_include = [\"04-11\", \"04-13\", \"04-17\", \"04-22\", \"04-26\",\"05-08\", \"05-12\", \"05-16\", \"05-21\", \"05-25\", \"05-29\",\"06-02\", \"06-06\", \"06-10\", \"06-14\", \"06-18\", \"06-22\"]\n",
    "dates_to_include = [\"04-30\", \"05-04\", \"06-22\"]\n",
    "\n",
    "path_of_data = \"../Users/\"\n",
    "whether_save = True\n",
    "save_path = \"../Fundamental_Covariates/\"\n",
    "\n",
    "## Get a dictionary of data in the format of {date1:dataframe1, date2:dataframe2, ...}\n",
    "dict_data = parser.read_data(path_of_data, dates_to_include)"
   ]
  },
  {
   "cell_type": "code",
   "execution_count": 7,
   "metadata": {},
   "outputs": [],
   "source": [
    "dict_of_covariates = {}\n",
    "for date in dates_to_include:\n",
    "    covariates = parser.generate_fundamental_covariates(dict_data[date])\n",
    "    if whether_save:\n",
    "        os.mkdir(save_path) if not os.path.exists(save_path) else None\n",
    "        covariates.to_csv(save_path + date + \"_funcovariates.csv\")\n",
    "    dict_of_covariates[date] = covariates"
   ]
  },
  {
   "cell_type": "markdown",
   "metadata": {},
   "source": [
    "# Generate Language Covariates for all data"
   ]
  },
  {
   "cell_type": "code",
   "execution_count": 5,
   "metadata": {},
   "outputs": [],
   "source": [
    "from ContentParser import ContentParser\n",
    "import os\n",
    "content_parser = ContentParser()"
   ]
  },
  {
   "cell_type": "code",
   "execution_count": 6,
   "metadata": {},
   "outputs": [],
   "source": [
    "dates_to_include = [\"04-30\", \"05-04\"]\n",
    "path_of_data = \"../Tweets/\"\n",
    "whether_save = True\n",
    "save_path = \"../Language_Covariates/\"\n",
    "\n",
    "## Get a dictionary of data in the format of {date1:dataframe1, date2:dataframe2, ...}\n",
    "tweets_dict = content_parser.read_tweets_for_dates(path_of_data, dates_to_include)"
   ]
  },
  {
   "cell_type": "code",
   "execution_count": 7,
   "metadata": {},
   "outputs": [
    {
     "data": {
      "text/plain": [
       "dict_keys(['04-30', '05-04'])"
      ]
     },
     "execution_count": 7,
     "metadata": {},
     "output_type": "execute_result"
    }
   ],
   "source": [
    "tweets_dict.keys()"
   ]
  },
  {
   "cell_type": "code",
   "execution_count": 8,
   "metadata": {},
   "outputs": [
    {
     "name": "stdout",
     "output_type": "stream",
     "text": [
      "Progress:  24.0 %\n",
      "Progress:  49.0 %\n",
      "Progress:  73.0 %\n",
      "Progress:  97.0 %\n",
      "Progress:  24.0 %\n",
      "Progress:  49.0 %\n",
      "Progress:  73.0 %\n",
      "Progress:  97.0 %\n"
     ]
    }
   ],
   "source": [
    "language_rate_dict = {}\n",
    "for date in dates_to_include:\n",
    "    dataset = tweets_dict[date]\n",
    "    language_rate = content_parser.generate_language_rate_for_a_dataset(dataset)\n",
    "    language_rate_df = content_parser.generate_language_df(language_rate)\n",
    "    if whether_save:\n",
    "        os.mkdir(save_path) if not os.path.exists(save_path) else None\n",
    "        language_rate_df.to_csv(save_path + date + \"_language_rate.csv\")\n",
    "    language_rate_dict[date] = language_rate_df"
   ]
  },
  {
   "cell_type": "code",
   "execution_count": null,
   "metadata": {},
   "outputs": [],
   "source": []
  }
 ],
 "metadata": {
  "kernelspec": {
   "display_name": "myenv",
   "language": "python",
   "name": "python3"
  },
  "language_info": {
   "codemirror_mode": {
    "name": "ipython",
    "version": 3
   },
   "file_extension": ".py",
   "mimetype": "text/x-python",
   "name": "python",
   "nbconvert_exporter": "python",
   "pygments_lexer": "ipython3",
   "version": "3.9.18"
  },
  "orig_nbformat": 4
 },
 "nbformat": 4,
 "nbformat_minor": 2
}
