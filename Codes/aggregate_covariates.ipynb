{
 "cells": [
  {
   "cell_type": "code",
   "execution_count": 1,
   "metadata": {},
   "outputs": [],
   "source": [
    "import pandas as pd\n",
    "import numpy as np\n",
    "import os"
   ]
  },
  {
   "cell_type": "code",
   "execution_count": 12,
   "metadata": {},
   "outputs": [],
   "source": [
    "language_cov_path = \"../Language_Covariates/\"\n",
    "hashtags_path = \"../Hashtags_Covariates/\"\n",
    "fundamental_cova_path = \"../Fundamental_Covariates/\"\n",
    "whether_save = True\n",
    "save_path = \"../Final_Covariates/\"\n",
    "\n",
    "dates_to_include = [\"05-04\",\"06-22\"]"
   ]
  },
  {
   "cell_type": "code",
   "execution_count": 11,
   "metadata": {},
   "outputs": [],
   "source": [
    "for date in dates_to_include:\n",
    "    language = pd.read_csv(language_cov_path + date + \"_language_rate.csv\")\n",
    "    language.drop(columns=[\"Unnamed: 0\"], inplace=True)\n",
    "    hashtags = pd.read_csv(hashtags_path + date + \"_hashtags_covariates.csv\")\n",
    "    fundamental = pd.read_csv(fundamental_cova_path + date + \"_funcovariates.csv\")\n",
    "    fundamental.drop(columns=[\"Unnamed: 0\"], inplace=True)\n",
    "    result = fundamental.merge(language, left_on=\"id\", right_on=\"userid\", how=\"left\")\n",
    "    result = result.merge(hashtags, left_on=\"id_x\", right_on=\"user\", how=\"left\")\n",
    "\n",
    "    if whether_save:\n",
    "        if not os.path.exists(save_path):\n",
    "            os.makedirs(save_path)\n",
    "        result.to_csv(save_path + date + \"_covariates.csv\")\n"
   ]
  },
  {
   "cell_type": "code",
   "execution_count": null,
   "metadata": {},
   "outputs": [],
   "source": []
  }
 ],
 "metadata": {
  "kernelspec": {
   "display_name": "myenv",
   "language": "python",
   "name": "python3"
  },
  "language_info": {
   "codemirror_mode": {
    "name": "ipython",
    "version": 3
   },
   "file_extension": ".py",
   "mimetype": "text/x-python",
   "name": "python",
   "nbconvert_exporter": "python",
   "pygments_lexer": "ipython3",
   "version": "3.9.18"
  }
 },
 "nbformat": 4,
 "nbformat_minor": 2
}
